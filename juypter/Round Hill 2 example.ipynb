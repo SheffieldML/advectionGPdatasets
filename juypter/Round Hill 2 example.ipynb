{
 "cells": [
  {
   "cell_type": "code",
   "execution_count": 10,
   "metadata": {},
   "outputs": [],
   "source": [
    "from advectionGPdatasets.roundhill import RoundHill\n",
    "from advectionGPdatasets import proposeboundary\n",
    "#from advectionGP.models import AdjointAdvectionDiffusionModel as Model\n",
    "from advectionGP.mfmodels import MeshFreeAdjointAdvectionDiffusionModel as Model\n",
    "from advectionGP.sensors import FixedSensorModel #Builds sensor arrays to generate data for foward model or to generate observations for comparison\n",
    "from advectionGP.kernels import EQ #Generates exponentiated quadratic kernel approximation\n",
    "from advectionGP.wind import WindSimple\n",
    "import matplotlib.pyplot as plt\n",
    "import numpy as np\n",
    "%matplotlib inline\n",
    "np.set_printoptions(precision=1,suppress=True)"
   ]
  },
  {
   "cell_type": "code",
   "execution_count": 11,
   "metadata": {},
   "outputs": [],
   "source": [
    "rh = RoundHill()\n",
    "X = rh.experiments[0].X\n",
    "Y = rh.experiments[0].Y #scaling\n",
    "boundary = proposeboundary(X)\n",
    "boundary[0][2]=-30 #puts the source on the grid!\n",
    "boundary[0][0]=-120 #add two minutes to start"
   ]
  },
  {
   "cell_type": "code",
   "execution_count": 12,
   "metadata": {},
   "outputs": [
    {
     "name": "stdout",
     "output_type": "stream",
     "text": [
      "Memory usage in grid model: -0.08 Gb\n",
      "WARNING: spatial grid size does not meet the finite difference advection diffusion stability criteria\n",
      "WARNING: temporal grid size does not meet the finite difference advection diffusion stability criteria\n"
     ]
    },
    {
     "name": "stderr",
     "output_type": "stream",
     "text": [
      "<ipython-input-12-2db78f916260>:6: RuntimeWarning: overflow encountered in long_scalars\n",
      "  gbs = ((np.prod(res)*len(X)*8)/1024/1024/1000)\n"
     ]
    }
   ],
   "source": [
    "#set up our model...\n",
    "N_feat = 10000 #Number of features used to infer the source\n",
    "#k = EQ(np.array([50,12,12]), 1000)\n",
    "k = EQ(np.array([50,10,10]), 1000)\n",
    "res = [150,100,100]\n",
    "gbs = ((np.prod(res)*len(X)*8)/1024/1024/1000)\n",
    "print(\"Memory usage in grid model: %0.2f Gb\" % gbs)\n",
    "#assert gbs<6, \"TOO BIG :(\"\n",
    "noiseSD = 0.1\n",
    "sensors = FixedSensorModel(X,3)\n",
    "windmodel=WindSimple(rh.experiments[0].windX,rh.experiments[0].windY)\n",
    "k_0 = 1\n",
    "mInfer = Model(resolution=res,boundary=boundary,N_feat=N_feat,noiseSD=noiseSD,kernel=k,sensormodel=sensors,windmodel=windmodel,k_0=k_0) #Initiate new model for inference\n"
   ]
  },
  {
   "cell_type": "code",
   "execution_count": 13,
   "metadata": {},
   "outputs": [
    {
     "name": "stdout",
     "output_type": "stream",
     "text": [
      "Initialising particles...\n",
      "Diffusing particles...\n",
      "Computed Regressors\n",
      "Computing SS...\n",
      "Inverting SS...\n",
      "Computing meanZ\n",
      "Done\n"
     ]
    }
   ],
   "source": [
    "mInfer.computeModelRegressors(Nparticles=30,compact=True) # Compute regressor matrix\n",
    "print(\"Computed Regressors\")\n",
    "meanZ, covZ = mInfer.computeZDistribution(Y) # Infers z vector mean and covariance using regressor matrix"
   ]
  },
  {
   "cell_type": "code",
   "execution_count": 14,
   "metadata": {},
   "outputs": [
    {
     "name": "stdout",
     "output_type": "stream",
     "text": [
      "cache miss, computing source from phi...\n",
      "Computing Source from Phi...\n",
      "9999/10000 \r"
     ]
    }
   ],
   "source": [
    "Nsamps = 1\n",
    "if Nsamps==1:\n",
    "    Zs = meanZ[None,:]\n",
    "else:\n",
    "    Zs = np.random.multivariate_normal(meanZ,covZ,Nsamps)\n",
    "    \n",
    "sources = np.array([mInfer.computeSourceFromPhiInterpolated(z,compact=True) for z in Zs])\n",
    "sourcemean = np.mean(sources,0)\n",
    "sourcevar = np.var(sources,0)"
   ]
  },
  {
   "cell_type": "code",
   "execution_count": 15,
   "metadata": {
    "scrolled": false
   },
   "outputs": [
    {
     "name": "stdout",
     "output_type": "stream",
     "text": [
      "Initialising particles...\n",
      "Particle shape:\n",
      "(50, 19, 100, 100, 3)\n",
      "Diffusing particles...\n",
      "144/150 \r"
     ]
    }
   ],
   "source": [
    "#concmean,concvar = mInfer.computeConcentration(meanZ,covZ,Nsamps=5,Nparticles=25,interpolateSource=True)\n",
    "scaleby = [8,1,1]\n",
    "coords = mInfer.coords[:,::scaleby[0],::scaleby[1],::scaleby[2]]\n",
    "concmean,concvar,concentrations = mInfer.computeConcentration(Nparticles=50,Zs=Zs,interpolateSource=True,coords=coords)"
   ]
  },
  {
   "cell_type": "code",
   "execution_count": 16,
   "metadata": {},
   "outputs": [],
   "source": [
    "gridsource = mInfer.getGridCoord(np.array([0,0,0])) #location of ground truth source\n",
    "gridX = mInfer.getGridCoord(X[:,1:])/np.array(scaleby) #grid-coords of X (inputs)\n",
    "mInferCoords = mInfer.coords"
   ]
  },
  {
   "cell_type": "code",
   "execution_count": 17,
   "metadata": {},
   "outputs": [],
   "source": [
    "import pickle\n",
    "results = {\n",
    "    'gridsource':gridsource,\n",
    "    'gridX':gridX,\n",
    "    'mInferCoords':mInferCoords,\n",
    "    'scaleby':scaleby,\n",
    "    'sourcemean':sourcemean,\n",
    "    'sourcevar':sourcevar,\n",
    "    'concmean':concmean,\n",
    "    'concvar':concvar,\n",
    "    'X':X,\n",
    "    'Y':Y\n",
    "    }\n",
    "pickle.dump(results,open('RHexampleTEMP2.pkl','wb'))"
   ]
  },
  {
   "cell_type": "code",
   "execution_count": 18,
   "metadata": {
    "scrolled": false
   },
   "outputs": [
    {
     "ename": "NameError",
     "evalue": "name 'getmaxloc' is not defined",
     "output_type": "error",
     "traceback": [
      "\u001b[1;31m---------------------------------------------------------------------------\u001b[0m",
      "\u001b[1;31mNameError\u001b[0m                                 Traceback (most recent call last)",
      "\u001b[1;32m<ipython-input-18-1dff1c67e1d8>\u001b[0m in \u001b[0;36m<module>\u001b[1;34m\u001b[0m\n\u001b[0;32m     12\u001b[0m     \u001b[0mplt\u001b[0m\u001b[1;33m.\u001b[0m\u001b[0mcolorbar\u001b[0m\u001b[1;33m(\u001b[0m\u001b[1;33m)\u001b[0m\u001b[1;33m\u001b[0m\u001b[1;33m\u001b[0m\u001b[0m\n\u001b[0;32m     13\u001b[0m     \u001b[0mplt\u001b[0m\u001b[1;33m.\u001b[0m\u001b[0mplot\u001b[0m\u001b[1;33m(\u001b[0m\u001b[0mgridsource\u001b[0m\u001b[1;33m[\u001b[0m\u001b[1;36m2\u001b[0m\u001b[1;33m]\u001b[0m\u001b[1;33m,\u001b[0m\u001b[0mgridsource\u001b[0m\u001b[1;33m[\u001b[0m\u001b[1;36m1\u001b[0m\u001b[1;33m]\u001b[0m\u001b[1;33m,\u001b[0m\u001b[1;34m'ow'\u001b[0m\u001b[1;33m,\u001b[0m\u001b[0mmarkersize\u001b[0m\u001b[1;33m=\u001b[0m\u001b[1;36m10\u001b[0m\u001b[1;33m,\u001b[0m\u001b[0mfillstyle\u001b[0m\u001b[1;33m=\u001b[0m\u001b[1;34m'none'\u001b[0m\u001b[1;33m)\u001b[0m\u001b[1;33m\u001b[0m\u001b[1;33m\u001b[0m\u001b[0m\n\u001b[1;32m---> 14\u001b[1;33m     \u001b[0mi\u001b[0m\u001b[1;33m,\u001b[0m\u001b[0mj\u001b[0m \u001b[1;33m=\u001b[0m \u001b[0mgetmaxloc\u001b[0m\u001b[1;33m(\u001b[0m\u001b[0msourcemean\u001b[0m\u001b[1;33m[\u001b[0m\u001b[0mtsamp\u001b[0m\u001b[1;33m,\u001b[0m\u001b[1;33m:\u001b[0m\u001b[1;33m,\u001b[0m\u001b[1;33m:\u001b[0m\u001b[1;33m]\u001b[0m\u001b[1;33m)\u001b[0m\u001b[1;33m\u001b[0m\u001b[1;33m\u001b[0m\u001b[0m\n\u001b[0m\u001b[0;32m     15\u001b[0m     \u001b[0mplt\u001b[0m\u001b[1;33m.\u001b[0m\u001b[0mplot\u001b[0m\u001b[1;33m(\u001b[0m\u001b[0mj\u001b[0m\u001b[1;33m,\u001b[0m\u001b[0mi\u001b[0m\u001b[1;33m,\u001b[0m\u001b[1;34m'xw'\u001b[0m\u001b[1;33m,\u001b[0m\u001b[0mmarkersize\u001b[0m\u001b[1;33m=\u001b[0m\u001b[1;36m10\u001b[0m\u001b[1;33m,\u001b[0m\u001b[0mfillstyle\u001b[0m\u001b[1;33m=\u001b[0m\u001b[1;34m'none'\u001b[0m\u001b[1;33m)\u001b[0m\u001b[1;33m\u001b[0m\u001b[1;33m\u001b[0m\u001b[0m\n\u001b[0;32m     16\u001b[0m     \u001b[0mplt\u001b[0m\u001b[1;33m.\u001b[0m\u001b[0msubplot\u001b[0m\u001b[1;33m(\u001b[0m\u001b[1;36m1\u001b[0m\u001b[1;33m,\u001b[0m\u001b[1;36m7\u001b[0m\u001b[1;33m,\u001b[0m\u001b[1;36m2\u001b[0m\u001b[1;33m)\u001b[0m\u001b[1;33m\u001b[0m\u001b[1;33m\u001b[0m\u001b[0m\n",
      "\u001b[1;31mNameError\u001b[0m: name 'getmaxloc' is not defined"
     ]
    },
    {
     "data": {
      "image/png": "[encoded data removed]",
      "text/plain": [
       "<Figure size 1440x288 with 2 Axes>"
      ]
     },
     "metadata": {
      "needs_background": "light"
     },
     "output_type": "display_data"
    }
   ],
   "source": [
    "for tsamp in range(0,int(mInferCoords.shape[1]/scaleby[0]),1):\n",
    "    plt.figure(figsize=[20,4])\n",
    "    \n",
    "    plt.subplot(1,7,1)\n",
    "    t = mInferCoords[0,tsamp*scaleby[0],0,0]\n",
    "    if tsamp==0: \n",
    "        plt.title('source (t=%0.1f)' % t)\n",
    "    else:\n",
    "        plt.title('(t=%0.1f)' % t)\n",
    "    plt.imshow(sourcemean[tsamp,:,:])\n",
    "    #plt.clim([-1,3])\n",
    "    plt.colorbar()\n",
    "    plt.plot(gridsource[2],gridsource[1],'ow',markersize=10,fillstyle='none')\n",
    "    i,j = getmaxloc(sourcemean[tsamp,:,:])\n",
    "    plt.plot(j,i,'xw',markersize=10,fillstyle='none')\n",
    "    plt.subplot(1,7,2)  \n",
    "    if tsamp==0: plt.title('source(std)')\n",
    "    plt.imshow(np.sqrt(sourcevar[tsamp,:,:]))\n",
    "    #plt.clim([0,0.5])    \n",
    "    plt.colorbar()\n",
    "    plt.subplot(1,7,3)\n",
    "    if tsamp==0: plt.title('source(conf)')\n",
    "    vals = sourcemean[tsamp,:,:]\n",
    "    alphas = np.sqrt(sourcevar[tsamp,:,:])<2\n",
    "    plt.imshow(vals,alpha=alphas.astype(float))\n",
    "    #plt.clim([-1,3])\n",
    "    plt.subplot(1,7,4)\n",
    "    if tsamp==0: plt.title('conc')\n",
    "    plt.scatter(gridX[:,2],gridX[:,1],1+Y/50,color='black')\n",
    "    plt.imshow(concmean[tsamp,:,:])\n",
    "    plt.colorbar()\n",
    "    #plt.clim([0,15])\n",
    "    #plt.clim([-5,5])\n",
    "    #plt.colorbar()\n",
    "    plt.plot(gridsource[2],gridsource[1],'ow',markersize=10,fillstyle='none')\n",
    "    plt.subplot(1,7,5)\n",
    "    if tsamp==0: plt.title('conc(std)')\n",
    "    plt.scatter(gridX[:,2],gridX[:,1],1+Y/50,color='black')\n",
    "    plt.imshow(np.sqrt(concvar[tsamp,:,:]))\n",
    "    plt.colorbar()\n",
    "    #plt.clim([0,0.5])\n",
    "    #plt.colorbar()\n",
    "    plt.plot(gridsource[2],gridsource[1],'ow',markersize=10,fillstyle='none')\n",
    "    plt.subplot(1,7,6)\n",
    "    if tsamp==0: plt.title('conc(conf)')\n",
    "    plt.scatter(gridX[:,2],gridX[:,1],1+Y/50,color='black')\n",
    "    vals = concmean[tsamp,:,:]\n",
    "    alphas = np.sqrt(concvar[tsamp,:,:])<50\n",
    "    plt.imshow(vals,alpha=alphas.astype(float))\n",
    "    #plt.clim([0,15])\n",
    "    #plt.clim([-5,5])\n",
    "    plt.plot(gridsource[2],gridsource[1],'ow',markersize=10,fillstyle='none')\n",
    "    #plt.subplot(1,7,7)\n",
    "    #if tsamp==0: plt.title('realconc')\n",
    "    #plt.scatter(tempgridX[:,1],tempgridX[:,2],1,color='black')\n",
    "    #plt.imshow(realconc[tsamp//scaleby[0],:,:])    \n",
    "    #plt.clim([0,15])\n",
    "    #plt.colorbar()\n",
    "    \n",
    "    #t = ts[tsamp*10]\n",
    "    #plt.scatter(Xgrid[X[:,1]==t,2],Xgrid[X[:,1]==t,1],3+Y[X[:,1]==t]*5,color='red')\n",
    "    #"
   ]
  },
  {
   "cell_type": "code",
   "execution_count": null,
   "metadata": {},
   "outputs": [],
   "source": [
    "mInfer.coords[:,135,0,0]"
   ]
  },
  {
   "cell_type": "code",
   "execution_count": null,
   "metadata": {},
   "outputs": [],
   "source": [
    "plt.imshow(sourcemean[50,:,:])\n",
    "#plt.clim([5,30])\n",
    "plt.colorbar()\n",
    "plt.plot(gridsource[2],gridsource[1],'ow',markersize=10,fillstyle='none')"
   ]
  },
  {
   "cell_type": "code",
   "execution_count": null,
   "metadata": {},
   "outputs": [],
   "source": [
    "dt,dx,dy,_,_,_,_,_ =mInfer.getGridStepSize()\n"
   ]
  },
  {
   "cell_type": "code",
   "execution_count": null,
   "metadata": {},
   "outputs": [],
   "source": [
    "np.mean(np.sum(sourcemean,(1,2))*dt*dx*dy)\n",
    "#np.mean(np.sum(sourcemean[25:135,60:80,40:65],(1,2))*dt*dx*dy)"
   ]
  },
  {
   "cell_type": "code",
   "execution_count": null,
   "metadata": {},
   "outputs": [],
   "source": [
    "np.mean(np.sum(sourcemean[25:135,0:25,60:80],(1,2))*dt*dx*dy)"
   ]
  },
  {
   "cell_type": "code",
   "execution_count": null,
   "metadata": {},
   "outputs": [],
   "source": [
    "np.array(boundary[1])-np.array(boundary[0])"
   ]
  },
  {
   "cell_type": "code",
   "execution_count": null,
   "metadata": {},
   "outputs": [],
   "source": [
    "np.sqrt((boundary[1][1]-boundary[0][1])**2 + (boundary[1][2]-boundary[0][2])**2)"
   ]
  },
  {
   "cell_type": "code",
   "execution_count": null,
   "metadata": {},
   "outputs": [],
   "source": [
    "def getmaxloc(a):\n",
    "    return np.unravel_index(a.argmax(), a.shape)\n",
    "\n",
    "poses = []\n",
    "for tsamp in range(25,135):\n",
    "    i,j = getmaxloc(sourcemean[tsamp,:,:])\n",
    "    pos = mInfer.coords[:,tsamp,i,j]\n",
    "    poses.append(pos)\n",
    "    #print(pos)\n",
    "np.sqrt(np.median(poses,0)[1]**2+np.median(poses,0)[2]**2)"
   ]
  },
  {
   "cell_type": "code",
   "execution_count": null,
   "metadata": {},
   "outputs": [],
   "source": [
    "#mInfer.genParticlesFromObservations(20).shape"
   ]
  },
  {
   "cell_type": "code",
   "execution_count": null,
   "metadata": {},
   "outputs": [],
   "source": [
    "#concmean,concvar,concentrations = mInfer.computeConcentration(Nparticles=5,Zs=Zs,interpolateSource=True,coords=coords)"
   ]
  },
  {
   "cell_type": "code",
   "execution_count": null,
   "metadata": {},
   "outputs": [],
   "source": [
    "particles = mInfer.genParticlesFromObservations(100)[None,None,:,:,:].transpose([3,0,1,2,4])"
   ]
  },
  {
   "cell_type": "code",
   "execution_count": null,
   "metadata": {},
   "outputs": [],
   "source": [
    "#p = mInfer.coords.transpose([1,2,3,0]).copy()\n",
    "#p = p[None,:].repeat(12,axis=0)"
   ]
  },
  {
   "cell_type": "code",
   "execution_count": null,
   "metadata": {},
   "outputs": [],
   "source": [
    "#p.shape"
   ]
  },
  {
   "cell_type": "code",
   "execution_count": null,
   "metadata": {},
   "outputs": [],
   "source": [
    "#particles.shape"
   ]
  },
  {
   "cell_type": "code",
   "execution_count": null,
   "metadata": {},
   "outputs": [],
   "source": [
    "meanobs,varobs,obs = mInfer.computeConcentration(particles=particles,Zs=Zs,interpolateSource=True)"
   ]
  },
  {
   "cell_type": "code",
   "execution_count": null,
   "metadata": {},
   "outputs": [],
   "source": [
    "keep = X[:,1]==600\n",
    "print(sum(keep))\n",
    "plt.scatter(X[keep,2],X[keep,3],Y[keep],c='green',alpha=0.5,label='true')\n",
    "plt.scatter(X[keep,2],X[keep,3],meanobs[0,0,keep],alpha=1,c='none',edgecolors='k',label='pred')\n",
    "plt.scatter(X[keep,2],X[keep,3],-meanobs[0,0,keep],alpha=0.2,c='none',edgecolors='b',label='pred')\n",
    "plt.scatter(X[keep,2],X[keep,3],1,c='k')\n",
    "plt.legend()"
   ]
  },
  {
   "cell_type": "code",
   "execution_count": null,
   "metadata": {},
   "outputs": [],
   "source": [
    "keep = X[:,1]>=0\n",
    "plt.scatter(Y[keep],meanobs[0,0,keep])\n",
    "plt.xlabel('real')\n",
    "plt.ylabel('pred')\n",
    "plt.plot([0,1000],[0,1000])\n",
    "plt.grid()"
   ]
  },
  {
   "cell_type": "code",
   "execution_count": null,
   "metadata": {},
   "outputs": [],
   "source": []
  },
  {
   "cell_type": "code",
   "execution_count": null,
   "metadata": {},
   "outputs": [],
   "source": [
    "plt.errorbar(Y,meanobs[0,0,:],np.sqrt(varobs[0,0,:]),fmt='none')\n",
    "plt.xlabel('real')\n",
    "plt.ylabel('pred')"
   ]
  },
  {
   "cell_type": "code",
   "execution_count": null,
   "metadata": {},
   "outputs": [],
   "source": [
    "meanobs.shape"
   ]
  },
  {
   "cell_type": "code",
   "execution_count": null,
   "metadata": {},
   "outputs": [],
   "source": [
    "obs.shape"
   ]
  },
  {
   "cell_type": "code",
   "execution_count": null,
   "metadata": {},
   "outputs": [],
   "source": []
  }
 ],
 "metadata": {
  "kernelspec": {
   "display_name": "Python 3",
   "language": "python",
   "name": "python3"
  },
  "language_info": {
   "codemirror_mode": {
    "name": "ipython",
    "version": 3
   },
   "file_extension": ".py",
   "mimetype": "text/x-python",
   "name": "python",
   "nbconvert_exporter": "python",
   "pygments_lexer": "ipython3",
   "version": "3.8.8"
  }
 },
 "nbformat": 4,
 "nbformat_minor": 4
}
