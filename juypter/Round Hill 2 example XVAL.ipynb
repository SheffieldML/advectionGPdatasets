{
 "cells": [
  {
   "cell_type": "code",
   "execution_count": 1,
   "metadata": {},
   "outputs": [],
   "source": [
    "from advectionGPdatasets.roundhill import RoundHill\n",
    "from advectionGPdatasets import proposeboundary\n",
    "#from advectionGP.models import AdjointAdvectionDiffusionModel as Model\n",
    "from advectionGP.mfmodels import MeshFreeAdjointAdvectionDiffusionModel as Model\n",
    "from advectionGP.sensors import FixedSensorModel #Builds sensor arrays to generate data for foward model or to generate observations for comparison\n",
    "from advectionGP.kernels import EQ #Generates exponentiated quadratic kernel approximation\n",
    "from advectionGP.wind import WindSimple\n",
    "import matplotlib.pyplot as plt\n",
    "import numpy as np\n",
    "%matplotlib inline\n",
    "np.set_printoptions(precision=1,suppress=True)"
   ]
  },
  {
   "cell_type": "code",
   "execution_count": 2,
   "metadata": {},
   "outputs": [
    {
     "data": {
      "text/plain": [
       "<matplotlib.collections.PathCollection at 0x7fa4ce460ca0>"
      ]
     },
     "execution_count": 2,
     "metadata": {},
     "output_type": "execute_result"
    },
    {
     "data": {
      "image/png": "[encoded data removed]",
      "text/plain": [
       "<Figure size 432x288 with 1 Axes>"
      ]
     },
     "metadata": {
      "needs_background": "light"
     },
     "output_type": "display_data"
    }
   ],
   "source": [
    "rh = RoundHill()\n",
    "X = rh.experiments[0].X\n",
    "Y = rh.experiments[0].Y #scaling\n",
    "boundary = proposeboundary(X)\n",
    "boundary[0][2]=-30 #puts the source on the grid!\n",
    "boundary[0][0]=-120 #add two minutes to start\n",
    "\n",
    "dist = np.round(X[:,2]**2+X[:,3]**2).astype(int)\n",
    "keep = dist==10000 #2500, 10000, 40000\n",
    "Xtest = X[keep,:]\n",
    "Ytest = Y[keep]\n",
    "X = X[~keep,:]\n",
    "Y = Y[~keep]\n",
    "plt.scatter(X[:,2],X[:,3],Y+1)"
   ]
  },
  {
   "cell_type": "code",
   "execution_count": null,
   "metadata": {
    "scrolled": true
   },
   "outputs": [
    {
     "name": "stdout",
     "output_type": "stream",
     "text": [
      "Memory usage in grid model: 1.79 Gb\n",
      "Initialising particles...\n",
      "Diffusing particles...\n",
      "3/100 \r"
     ]
    }
   ],
   "source": [
    "#set up our model...\n",
    "N_feat = 10000 #10000 #Number of features used to infer the source\n",
    "Nparticles = 20\n",
    "#k = EQ(np.array([50,12,12]), 1000)\n",
    "k = EQ(np.array([50,10,10]), 1000)\n",
    "res = [100,100,100]\n",
    "gbs = ((np.prod(res)*len(X)*8)/1024/1024/1000)\n",
    "print(\"Memory usage in grid model: %0.2f Gb\" % gbs)\n",
    "#assert gbs<6, \"TOO BIG :(\"\n",
    "noiseSD = 0.1\n",
    "sensors = FixedSensorModel(X,3)\n",
    "windmodel=WindSimple(rh.experiments[0].windX,rh.experiments[0].windY)\n",
    "k_0 = 1\n",
    "mInfer = Model(resolution=res,boundary=boundary,N_feat=N_feat,noiseSD=noiseSD,kernel=k,sensormodel=sensors,windmodel=windmodel,k_0=k_0) #Initiate new model for inference\n",
    "mInfer.computeModelRegressors(Nparticles=Nparticles) # Compute regressor matrix\n",
    "print(\"Computed Regressors\")\n",
    "meanZ, covZ = mInfer.computeZDistribution(Y) # Infers z vector mean and covariance using regressor matrix\n",
    "\n",
    "Nsamps = 1\n",
    "if Nsamps==1:\n",
    "    Zs = meanZ[None,:]\n",
    "else:\n",
    "    Zs = np.random.multivariate_normal(meanZ,covZ,Nsamps)\n",
    "    \n",
    "sources = np.array([mInfer.computeSourceFromPhiInterpolated(z) for z in Zs])\n",
    "sourcemean = np.mean(sources,0)\n",
    "sourcevar = np.var(sources,0)\n",
    "\n",
    "#concmean,concvar = mInfer.computeConcentration(meanZ,covZ,Nsamps=5,Nparticles=25,interpolateSource=True)\n",
    "scaleby = [8,1,1]\n",
    "coords = mInfer.coords[:,::scaleby[0],::scaleby[1],::scaleby[2]]\n",
    "concmean,concvar,concentrations = mInfer.computeConcentration(Nparticles=Nparticles,Zs=Zs,interpolateSource=True,coords=coords)\n",
    "\n",
    "gridsource = mInfer.getGridCoord(np.array([0,0,0])) #location of ground truth source\n",
    "gridX = mInfer.getGridCoord(X[:,1:])/np.array(scaleby) #grid-coords of X (inputs)\n",
    "mInferCoords = mInfer.coords\n",
    "\n",
    "testsensors = FixedSensorModel(Xtest,3)\n",
    "particles = mInfer.genParticlesFromObservations(100,testsensors)[None,None,:,:,:].transpose([3,0,1,2,4])\n",
    "meanobs,varobs,obs = mInfer.computeConcentration(particles=particles,Zs=Zs,interpolateSource=True)"
   ]
  },
  {
   "cell_type": "code",
   "execution_count": null,
   "metadata": {},
   "outputs": [],
   "source": [
    "keep = Xtest[:,1]>=0\n",
    "preds = meanobs[0,0,:].copy()\n",
    "preds[preds<0]=0\n",
    "plt.plot(Ytest[keep],preds[keep],'x')\n",
    "plt.grid()\n",
    "plt.xlabel('True')\n",
    "plt.ylabel('Pred')"
   ]
  },
  {
   "cell_type": "code",
   "execution_count": null,
   "metadata": {},
   "outputs": [],
   "source": [
    "keep = Xtest[:,1]==600\n",
    "print(sum(keep))\n",
    "plt.scatter(Xtest[keep,2],Xtest[keep,3],Ytest[keep],c='green',alpha=0.5,label='true')\n",
    "plt.scatter(Xtest[keep,2],Xtest[keep,3],meanobs[0,0,keep],alpha=1,c='none',edgecolors='k',label='pred')\n",
    "plt.scatter(Xtest[keep,2],Xtest[keep,3],-meanobs[0,0,keep],alpha=0.2,c='none',edgecolors='b',label='pred')\n",
    "plt.scatter(Xtest[keep,2],Xtest[keep,3],1,c='k')\n",
    "plt.scatter(X[:,2],X[:,3],1+Y/20,c='k')\n",
    "plt.plot([0],[0],'o')\n",
    "plt.axis('equal')\n",
    "plt.legend()"
   ]
  },
  {
   "cell_type": "code",
   "execution_count": null,
   "metadata": {},
   "outputs": [],
   "source": [
    "import GPy\n",
    "k = GPy.kern.RBF(3,ARD=True,lengthscale=30)\n",
    "m = GPy.models.GPRegression(X,Y[:,None],k)\n",
    "m.Gaussian_noise = 2\n",
    "#m.optimize()\n",
    "m.kern.lengthscale"
   ]
  },
  {
   "cell_type": "code",
   "execution_count": null,
   "metadata": {},
   "outputs": [],
   "source": [
    "GPpreds, _ = m.predict(Xtest)\n",
    "#keep = Xtest[:,1]==600\n",
    "GPpreds[GPpreds<0]=0\n",
    "print(sum(keep))\n",
    "plt.scatter(X[:,2],X[:,3],Y,c='blue',alpha=0.5,label='true')\n",
    "plt.scatter(Xtest[keep,2],Xtest[keep,3],Ytest[keep],c='green',alpha=0.5,label='true')\n",
    "plt.scatter(Xtest[keep,2],Xtest[keep,3],GPpreds[keep],alpha=1,c='none',edgecolors='k',label='pred')\n",
    "plt.scatter(Xtest[keep,2],Xtest[keep,3],-GPpreds[keep],alpha=0.2,c='none',edgecolors='b',label='pred')\n",
    "plt.scatter(Xtest[keep,2],Xtest[keep,3],1,c='k')\n",
    "plt.legend()"
   ]
  },
  {
   "cell_type": "code",
   "execution_count": null,
   "metadata": {},
   "outputs": [],
   "source": [
    "def MAE(a):\n",
    "    return np.mean(np.abs(a))\n",
    "def RMSE(a):\n",
    "    return np.sqrt(np.mean(a**2))\n",
    "def MSE(a):\n",
    "    return np.mean(a**2)\n",
    "\n",
    "print(\" Time     GP   Adjoint\")\n",
    "for t in [30,180,600]:\n",
    "    keep = Xtest[:,1]==t\n",
    "    thresholdGPpreds = GPpreds.copy()\n",
    "    #thresholdGPpreds[thresholdGPpreds<0]=0\n",
    "    thresholdpreds = preds.copy()\n",
    "    #thresholdpreds[thresholdpreds<0]=0\n",
    "    #MAE(Ytest[keep]-GPpreds[keep,0]),MAE(Ytest[keep]-preds[keep])\n",
    "    #RMSE(Ytest[keep]-GPpreds[keep,0]),RMSE(Ytest[keep]-preds[keep])\n",
    "    print(\"%5d: %6.0f %6.0f\" % (t,MSE(Ytest[keep]-thresholdGPpreds[keep,0]),MSE(Ytest[keep]-thresholdpreds[keep])))"
   ]
  },
  {
   "cell_type": "code",
   "execution_count": null,
   "metadata": {},
   "outputs": [],
   "source": [
    "(21748.70210856546, 20179.661009869782)\n",
    "(13086.187603829614, 3766.36976)\n",
    "(8506.370135801708, 3946.)"
   ]
  },
  {
   "cell_type": "code",
   "execution_count": null,
   "metadata": {},
   "outputs": [],
   "source": []
  }
 ],
 "metadata": {
  "kernelspec": {
   "display_name": "Python 3",
   "language": "python",
   "name": "python3"
  },
  "language_info": {
   "codemirror_mode": {
    "name": "ipython",
    "version": 3
   },
   "file_extension": ".py",
   "mimetype": "text/x-python",
   "name": "python",
   "nbconvert_exporter": "python",
   "pygments_lexer": "ipython3",
   "version": "3.8.3"
  }
 },
 "nbformat": 4,
 "nbformat_minor": 4
}
