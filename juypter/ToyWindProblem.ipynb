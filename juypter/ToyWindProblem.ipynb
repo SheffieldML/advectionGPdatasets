{
 "cells": [
  {
   "cell_type": "code",
   "execution_count": 24,
   "metadata": {},
   "outputs": [],
   "source": [
    "from advectionGPdatasets.roundhill import RoundHill\n",
    "from advectionGPdatasets import proposeboundary\n",
    "#from advectionGP.models import AdjointAdvectionDiffusionModel as Model\n",
    "from advectionGP.mfmodels import MeshFreeAdjointAdvectionDiffusionModel as Model\n",
    "from advectionGP.sensors import FixedSensorModel #Builds sensor arrays to generate data for foward model or to generate observations for comparison\n",
    "from advectionGP.kernels import EQ #Generates exponentiated quadratic kernel approximation\n",
    "from advectionGP.wind import WindSimple\n",
    "import matplotlib.pyplot as plt\n",
    "from scipy.stats import norm\n",
    "import numpy as np\n",
    "%matplotlib inline"
   ]
  },
  {
   "cell_type": "code",
   "execution_count": 25,
   "metadata": {},
   "outputs": [],
   "source": [
    "def getrealconc(t,x,y,D):\n",
    "    blobcentre = np.array([t+10,t+20]) #1m/s\n",
    "    blobsize = np.sqrt(2*2*D*(t+5))+10\n",
    "    d = np.linalg.norm(np.array([x,y])-blobcentre)\n",
    "    #v = d\n",
    "    v = 300*norm(0,blobsize).pdf(d)\n",
    "    return [t,t+10,x,y],v"
   ]
  },
  {
   "cell_type": "code",
   "execution_count": 26,
   "metadata": {},
   "outputs": [],
   "source": [
    "X = []\n",
    "Y = []\n",
    "D = 0.01 #almost no diffusion\n",
    "for x in np.linspace(30,100,10):\n",
    "    for y in np.linspace(30,100,10):\n",
    "        for t in np.linspace(0,60,5):\n",
    "            newX,newY = getrealconc(t,x,y,D)\n",
    "            X.append(newX)\n",
    "            Y.append(newY)\n",
    "X = np.array(X)\n",
    "Y = np.array(Y)\n",
    "#Y /= np.std(Y)"
   ]
  },
  {
   "cell_type": "code",
   "execution_count": 27,
   "metadata": {},
   "outputs": [
    {
     "data": {
      "image/png": "[encoded data removed]",
      "text/plain": [
       "<Figure size 1080x216 with 5 Axes>"
      ]
     },
     "metadata": {
      "needs_background": "light"
     },
     "output_type": "display_data"
    }
   ],
   "source": [
    "plt.figure(figsize=[15,3])\n",
    "for i,t in enumerate(np.linspace(0,60,5)):\n",
    "    plt.subplot(1,5,i+1)\n",
    "    keep = X[:,0]==t\n",
    "    plt.scatter(X[:,2],X[:,3],0.1,color='black')\n",
    "    plt.scatter(X[keep,2],X[keep,3],Y[keep]*10-1,color='pink')\n",
    "    plt.xlim([-10,110])\n",
    "    plt.ylim([-10,110])\n",
    "    #plt.axis('equal')"
   ]
  },
  {
   "cell_type": "code",
   "execution_count": 28,
   "metadata": {},
   "outputs": [],
   "source": [
    "boundary = proposeboundary(X)\n",
    "boundary[0][1]=-10 #puts the source on the grid!\n",
    "boundary[0][2]=-10"
   ]
  },
  {
   "cell_type": "code",
   "execution_count": 29,
   "metadata": {},
   "outputs": [
    {
     "name": "stdout",
     "output_type": "stream",
     "text": [
      "WARNING: spatial grid size does not meet the finite difference advection diffusion stability criteria\n"
     ]
    }
   ],
   "source": [
    "#set up our model...\n",
    "N_feat = 500 #Number of features used to infer the source\n",
    "k = EQ(20, 1)\n",
    "res = [250,50,50]\n",
    "gbs = ((np.prod(res)*len(X)*8)/1024/1024/1000)\n",
    "noiseSD = 0.02\n",
    "sensors = FixedSensorModel(X,3)\n",
    "windmodel=WindSimple(1,1)\n",
    "k_0 = 0.5\n",
    "mInfer = Model(resolution=res,boundary=boundary,N_feat=N_feat,noiseSD=noiseSD,kernel=k,sensormodel=sensors,windmodel=windmodel,k_0=k_0) #Initiate new model for inference"
   ]
  },
  {
   "cell_type": "code",
   "execution_count": null,
   "metadata": {},
   "outputs": [
    {
     "name": "stdout",
     "output_type": "stream",
     "text": [
      "Initialising particles...\n",
      "Diffusing particles...\n",
      "185/250 \r"
     ]
    }
   ],
   "source": [
    "mInfer.computeModelRegressors(Nparticles=30) # Compute regressor matrix\n",
    "meanZ, covZ = mInfer.computeZDistribution(Y) # Infers z vector mean and covariance using regressor matrix\n",
    "#sourceInfer = mInfer.computeSourceFromPhi(meanZ) # Generates estimated source using mean of the inferred distribution\n",
    "#concInfer=mInfer.computeConcentration(sourceInfer) # Generates estimated concentration from inferred source"
   ]
  },
  {
   "cell_type": "code",
   "execution_count": null,
   "metadata": {},
   "outputs": [],
   "source": [
    "concmean,concvar = mInfer.computeConcentration(meanZ,covZ,mInfer.coords[:,::5,::2,::2])"
   ]
  },
  {
   "cell_type": "code",
   "execution_count": null,
   "metadata": {},
   "outputs": [],
   "source": [
    "gridps = mInfer.coords.transpose([1,2,3,0]).copy()\n",
    "realconc = np.zeros(mInfer.coords.shape[1:])\n",
    "for i in np.ndindex(gridps.shape[:3]):\n",
    "    _,v= getrealconc(gridps[i][0],gridps[i][1],gridps[i][2],D)\n",
    "    realconc[i]=v"
   ]
  },
  {
   "cell_type": "code",
   "execution_count": null,
   "metadata": {
    "scrolled": false
   },
   "outputs": [],
   "source": [
    " gridX = mInfer.getGridCoord(X[:,1:])/np.array([5,2,2])\n",
    "\n",
    "for tsamp in range(8):\n",
    "    plt.figure(figsize=[12,4])\n",
    "    plt.title(tsamp)\n",
    "    plt.subplot(1,3,1)\n",
    "    plt.scatter(gridX[:,1],gridX[:,2],1,color='black')\n",
    "    plt.imshow(concmean[tsamp,:,:])\n",
    "    plt.clim([-5,5])\n",
    "    plt.colorbar()\n",
    "    plt.subplot(1,3,2)\n",
    "    plt.scatter(gridX[:,1],gridX[:,2],1,color='black')\n",
    "    plt.imshow(np.sqrt(concvar[tsamp,:,:]))\n",
    "    plt.clim([0,0.25])\n",
    "    plt.colorbar()\n",
    "    plt.subplot(1,3,3)\n",
    "    plt.scatter(gridX[:,1],gridX[:,2],1,color='black')\n",
    "    plt.imshow(realconc[tsamp,:,:])    \n",
    "    plt.clim([-5,5])\n",
    "    plt.colorbar()\n",
    "    \n",
    "    #t = ts[tsamp*10]\n",
    "    #plt.scatter(Xgrid[X[:,1]==t,2],Xgrid[X[:,1]==t,1],3+Y[X[:,1]==t]*5,color='red')\n",
    "    #"
   ]
  },
  {
   "cell_type": "code",
   "execution_count": null,
   "metadata": {},
   "outputs": [],
   "source": []
  }
 ],
 "metadata": {
  "kernelspec": {
   "display_name": "Python 3",
   "language": "python",
   "name": "python3"
  },
  "language_info": {
   "codemirror_mode": {
    "name": "ipython",
    "version": 3
   },
   "file_extension": ".py",
   "mimetype": "text/x-python",
   "name": "python",
   "nbconvert_exporter": "python",
   "pygments_lexer": "ipython3",
   "version": "3.8.3"
  }
 },
 "nbformat": 4,
 "nbformat_minor": 4
}
